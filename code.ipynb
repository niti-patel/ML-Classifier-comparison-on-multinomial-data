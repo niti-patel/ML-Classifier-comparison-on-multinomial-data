{
  "nbformat": 4,
  "nbformat_minor": 0,
  "metadata": {
    "colab": {
      "provenance": [],
      "toc_visible": true,
      "mount_file_id": "1pgYZufB8YCeDENexKdDyaJRhn7Kgehq4",
      "authorship_tag": "ABX9TyMqk67lt+XCOgh/GAlJrawR"
    },
    "kernelspec": {
      "name": "python3",
      "display_name": "Python 3"
    },
    "language_info": {
      "name": "python"
    }
  },
  "cells": [
    {
      "cell_type": "markdown",
      "source": [],
      "metadata": {
        "id": "Oa0Nh3vu8xb2"
      }
    },
    {
      "cell_type": "code",
      "execution_count": null,
      "metadata": {
        "id": "8XAf4lB5R8sC"
      },
      "outputs": [],
      "source": [
        "#Importing all the required librabries, classifiers etc.\n",
        "import pandas as pd\n",
        "import numpy as np\n",
        "import matplotlib\n",
        "import matplotlib.pyplot as plt\n",
        "from scipy.stats import skew\n",
        "from sklearn.metrics import accuracy_score\n",
        "from sklearn.linear_model import Ridge\n",
        "from sklearn.model_selection import cross_val_score,train_test_split\n",
        "from sklearn.model_selection import GridSearchCV\n",
        "from sklearn.neighbors import KNeighborsClassifier\n",
        "from collections import Counter\n",
        "from sklearn.preprocessing import MinMaxScaler\n",
        "from sklearn.svm import SVC\n",
        "from sklearn.ensemble import RandomForestClassifier\n",
        "import time\n",
        "%matplotlib inline"
      ]
    },
    {
      "cell_type": "code",
      "source": [
        "#mounting the google drive to content to the data base\n",
        "from google.colab import drive\n",
        "drive.mount('/content/gdrive/', force_remount=True)"
      ],
      "metadata": {
        "colab": {
          "base_uri": "https://localhost:8080/"
        },
        "id": "F6EKX945SAgD",
        "outputId": "911cf1ea-8992-4e88-83ae-f1eae6675f0c"
      },
      "execution_count": null,
      "outputs": [
        {
          "output_type": "stream",
          "name": "stdout",
          "text": [
            "Mounted at /content/gdrive/\n"
          ]
        }
      ]
    },
    {
      "cell_type": "markdown",
      "source": [
        "#Change the drive location here for the location of the files in your dataset"
      ],
      "metadata": {
        "id": "i8bC1zt0r0dm"
      }
    },
    {
      "cell_type": "code",
      "source": [
        "cd gdrive/MyDrive/Colab Notebooks/Assignment1 "
      ],
      "metadata": {
        "colab": {
          "base_uri": "https://localhost:8080/"
        },
        "id": "bVba14j7SDz1",
        "outputId": "aef0b17f-eeb3-46b6-9a17-f48870509303"
      },
      "execution_count": null,
      "outputs": [
        {
          "output_type": "stream",
          "name": "stdout",
          "text": [
            "/content/gdrive/MyDrive/Colab Notebooks/Assignment1\n"
          ]
        }
      ]
    },
    {
      "cell_type": "code",
      "source": [
        "import os\n",
        "print(os.listdir(\"./Input/train\"))\n",
        "pd.set_option('display.max_columns', 10) #locating the input data folder\n"
      ],
      "metadata": {
        "colab": {
          "base_uri": "https://localhost:8080/"
        },
        "id": "_CuWfj6ASNA_",
        "outputId": "2ca2c3ab-64e5-482f-a042-6f39b1ce1d41"
      },
      "execution_count": null,
      "outputs": [
        {
          "output_type": "stream",
          "name": "stdout",
          "text": [
            "['train.csv']\n"
          ]
        }
      ]
    },
    {
      "cell_type": "code",
      "source": [
        "data_train_df = pd.read_csv('./Input/train/train.csv') #obtaining the input data\n"
      ],
      "metadata": {
        "id": "K9D49sMzSZ8s"
      },
      "execution_count": null,
      "outputs": []
    },
    {
      "cell_type": "markdown",
      "source": [
        "#**Data Pre-processing**"
      ],
      "metadata": {
        "id": "G1Kv56ej9tya"
      }
    },
    {
      "cell_type": "code",
      "source": [
        "data_train_df.head()\n",
        "print(len(data_train_df)) #checking the length of the input data "
      ],
      "metadata": {
        "colab": {
          "base_uri": "https://localhost:8080/"
        },
        "id": "lURblz4eSjnB",
        "outputId": "33f81e51-1438-47cc-b9e7-755f1ed3d87e"
      },
      "execution_count": null,
      "outputs": [
        {
          "output_type": "stream",
          "name": "stdout",
          "text": [
            "30000\n"
          ]
        }
      ]
    },
    {
      "cell_type": "code",
      "source": [
        "# Selecting train input feature\n",
        "input_feature = data_train_df.loc[:, \"v1\":\"v784\"].to_numpy()\n",
        "# Selecting train input label\n",
        "input_label = data_train_df.label.to_numpy()\n",
        "print(input_feature)"
      ],
      "metadata": {
        "colab": {
          "base_uri": "https://localhost:8080/"
        },
        "id": "ntZLc5KDS6fC",
        "outputId": "08888ac6-a333-4ab7-de82-4b828cfdc7fe"
      },
      "execution_count": null,
      "outputs": [
        {
          "output_type": "stream",
          "name": "stdout",
          "text": [
            "[[0 0 0 ... 0 0 0]\n",
            " [0 0 0 ... 0 0 0]\n",
            " [0 0 0 ... 0 0 0]\n",
            " ...\n",
            " [0 0 0 ... 0 0 0]\n",
            " [0 0 0 ... 0 0 0]\n",
            " [0 0 0 ... 0 0 0]]\n"
          ]
        }
      ]
    },
    {
      "cell_type": "code",
      "source": [
        "#displaying a random image from the dataset with its label\n",
        "input_feature = input_feature.reshape((input_feature.shape[0],28, 28))\n",
        "plt.imshow(input_feature[0], cmap=plt.get_cmap('gray'))\n",
        "plt.title(\"class \" + str(input_label[0]) + \": Pullover\" )\n",
        "plt.show() "
      ],
      "metadata": {
        "colab": {
          "base_uri": "https://localhost:8080/",
          "height": 281
        },
        "id": "vlDlUyaVTFol",
        "outputId": "81245314-2eee-4ec0-9e8b-a0931f517ebe"
      },
      "execution_count": null,
      "outputs": [
        {
          "output_type": "display_data",
          "data": {
            "text/plain": [
              "<Figure size 432x288 with 1 Axes>"
            ],
            "image/png": "[encoded data removed]"
          },
          "metadata": {
            "needs_background": "light"
          }
        }
      ]
    },
    {
      "cell_type": "code",
      "source": [
        "# test_input.csv includes 5000 samples used for label prediction. Test samples do not have labels.\n",
        "data_test_df = pd.read_csv('./Output/test/test_input.csv')\n"
      ],
      "metadata": {
        "id": "hXe4bBs4Tehe"
      },
      "execution_count": null,
      "outputs": []
    },
    {
      "cell_type": "code",
      "source": [
        "output_feature=data_test_df\n",
        "output_feature.head() #note this data has no labels"
      ],
      "metadata": {
        "colab": {
          "base_uri": "https://localhost:8080/",
          "height": 236
        },
        "id": "5gkiy1xXTr6_",
        "outputId": "4c3f4b5a-7c91-46fd-ca52-4f83f7f6f049"
      },
      "execution_count": null,
      "outputs": [
        {
          "output_type": "execute_result",
          "data": {
            "text/plain": [
              "   id  v1  v2  v3  v4  ...  v780  v781  v782  v783  v784\n",
              "0   0   0   0   0   0  ...     0     0     0     0     0\n",
              "1   1   0   0   0   0  ...     0     0     0     0     0\n",
              "2   2   0   0   0   0  ...     0     0     0     0     0\n",
              "3   3   0   0   0   0  ...     0     0     0     0     0\n",
              "4   4   0   0   0   0  ...     0     0     0     0     0\n",
              "\n",
              "[5 rows x 785 columns]"
            ],
            "text/html": [
              "\n",
              "  <div id=\"df-92832ae2-afd5-4ee6-af46-36cde3bafb1c\">\n",
              "    <div class=\"colab-df-container\">\n",
              "      <div>\n",
              "<style scoped>\n",
              "    .dataframe tbody tr th:only-of-type {\n",
              "        vertical-align: middle;\n",
              "    }\n",
              "\n",
              "    .dataframe tbody tr th {\n",
              "        vertical-align: top;\n",
              "    }\n",
              "\n",
              "    .dataframe thead th {\n",
              "        text-align: right;\n",
              "    }\n",
              "</style>\n",
              "<table border=\"1\" class=\"dataframe\">\n",
              "  <thead>\n",
              "    <tr style=\"text-align: right;\">\n",
              "      <th></th>\n",
              "      <th>id</th>\n",
              "      <th>v1</th>\n",
              "      <th>v2</th>\n",
              "      <th>v3</th>\n",
              "      <th>v4</th>\n",
              "      <th>...</th>\n",
              "      <th>v780</th>\n",
              "      <th>v781</th>\n",
              "      <th>v782</th>\n",
              "      <th>v783</th>\n",
              "      <th>v784</th>\n",
              "    </tr>\n",
              "  </thead>\n",
              "  <tbody>\n",
              "    <tr>\n",
              "      <th>0</th>\n",
              "      <td>0</td>\n",
              "      <td>0</td>\n",
              "      <td>0</td>\n",
              "      <td>0</td>\n",
              "      <td>0</td>\n",
              "      <td>...</td>\n",
              "      <td>0</td>\n",
              "      <td>0</td>\n",
              "      <td>0</td>\n",
              "      <td>0</td>\n",
              "      <td>0</td>\n",
              "    </tr>\n",
              "    <tr>\n",
              "      <th>1</th>\n",
              "      <td>1</td>\n",
              "      <td>0</td>\n",
              "      <td>0</td>\n",
              "      <td>0</td>\n",
              "      <td>0</td>\n",
              "      <td>...</td>\n",
              "      <td>0</td>\n",
              "      <td>0</td>\n",
              "      <td>0</td>\n",
              "      <td>0</td>\n",
              "      <td>0</td>\n",
              "    </tr>\n",
              "    <tr>\n",
              "      <th>2</th>\n",
              "      <td>2</td>\n",
              "      <td>0</td>\n",
              "      <td>0</td>\n",
              "      <td>0</td>\n",
              "      <td>0</td>\n",
              "      <td>...</td>\n",
              "      <td>0</td>\n",
              "      <td>0</td>\n",
              "      <td>0</td>\n",
              "      <td>0</td>\n",
              "      <td>0</td>\n",
              "    </tr>\n",
              "    <tr>\n",
              "      <th>3</th>\n",
              "      <td>3</td>\n",
              "      <td>0</td>\n",
              "      <td>0</td>\n",
              "      <td>0</td>\n",
              "      <td>0</td>\n",
              "      <td>...</td>\n",
              "      <td>0</td>\n",
              "      <td>0</td>\n",
              "      <td>0</td>\n",
              "      <td>0</td>\n",
              "      <td>0</td>\n",
              "    </tr>\n",
              "    <tr>\n",
              "      <th>4</th>\n",
              "      <td>4</td>\n",
              "      <td>0</td>\n",
              "      <td>0</td>\n",
              "      <td>0</td>\n",
              "      <td>0</td>\n",
              "      <td>...</td>\n",
              "      <td>0</td>\n",
              "      <td>0</td>\n",
              "      <td>0</td>\n",
              "      <td>0</td>\n",
              "      <td>0</td>\n",
              "    </tr>\n",
              "  </tbody>\n",
              "</table>\n",
              "<p>5 rows × 785 columns</p>\n",
              "</div>\n",
              "      <button class=\"colab-df-convert\" onclick=\"convertToInteractive('df-92832ae2-afd5-4ee6-af46-36cde3bafb1c')\"\n",
              "              title=\"Convert this dataframe to an interactive table.\"\n",
              "              style=\"display:none;\">\n",
              "        \n",
              "  <svg xmlns=\"http://www.w3.org/2000/svg\" height=\"24px\"viewBox=\"0 0 24 24\"\n",
              "       width=\"24px\">\n",
              "    <path d=\"M0 0h24v24H0V0z\" fill=\"none\"/>\n",
              "    <path d=\"M18.56 5.44l.94 2.06.94-2.06 2.06-.94-2.06-.94-.94-2.06-.94 2.06-2.06.94zm-11 1L8.5 8.5l.94-2.06 2.06-.94-2.06-.94L8.5 2.5l-.94 2.06-2.06.94zm10 10l.94 2.06.94-2.06 2.06-.94-2.06-.94-.94-2.06-.94 2.06-2.06.94z\"/><path d=\"M17.41 7.96l-1.37-1.37c-.4-.4-.92-.59-1.43-.59-.52 0-1.04.2-1.43.59L10.3 9.45l-7.72 7.72c-.78.78-.78 2.05 0 2.83L4 21.41c.39.39.9.59 1.41.59.51 0 1.02-.2 1.41-.59l7.78-7.78 2.81-2.81c.8-.78.8-2.07 0-2.86zM5.41 20L4 18.59l7.72-7.72 1.47 1.35L5.41 20z\"/>\n",
              "  </svg>\n",
              "      </button>\n",
              "      \n",
              "  <style>\n",
              "    .colab-df-container {\n",
              "      display:flex;\n",
              "      flex-wrap:wrap;\n",
              "      gap: 12px;\n",
              "    }\n",
              "\n",
              "    .colab-df-convert {\n",
              "      background-color: #E8F0FE;\n",
              "      border: none;\n",
              "      border-radius: 50%;\n",
              "      cursor: pointer;\n",
              "      display: none;\n",
              "      fill: #1967D2;\n",
              "      height: 32px;\n",
              "      padding: 0 0 0 0;\n",
              "      width: 32px;\n",
              "    }\n",
              "\n",
              "    .colab-df-convert:hover {\n",
              "      background-color: #E2EBFA;\n",
              "      box-shadow: 0px 1px 2px rgba(60, 64, 67, 0.3), 0px 1px 3px 1px rgba(60, 64, 67, 0.15);\n",
              "      fill: #174EA6;\n",
              "    }\n",
              "\n",
              "    [theme=dark] .colab-df-convert {\n",
              "      background-color: #3B4455;\n",
              "      fill: #D2E3FC;\n",
              "    }\n",
              "\n",
              "    [theme=dark] .colab-df-convert:hover {\n",
              "      background-color: #434B5C;\n",
              "      box-shadow: 0px 1px 3px 1px rgba(0, 0, 0, 0.15);\n",
              "      filter: drop-shadow(0px 1px 2px rgba(0, 0, 0, 0.3));\n",
              "      fill: #FFFFFF;\n",
              "    }\n",
              "  </style>\n",
              "\n",
              "      <script>\n",
              "        const buttonEl =\n",
              "          document.querySelector('#df-92832ae2-afd5-4ee6-af46-36cde3bafb1c button.colab-df-convert');\n",
              "        buttonEl.style.display =\n",
              "          google.colab.kernel.accessAllowed ? 'block' : 'none';\n",
              "\n",
              "        async function convertToInteractive(key) {\n",
              "          const element = document.querySelector('#df-92832ae2-afd5-4ee6-af46-36cde3bafb1c');\n",
              "          const dataTable =\n",
              "            await google.colab.kernel.invokeFunction('convertToInteractive',\n",
              "                                                     [key], {});\n",
              "          if (!dataTable) return;\n",
              "\n",
              "          const docLinkHtml = 'Like what you see? Visit the ' +\n",
              "            '<a target=\"_blank\" href=https://colab.research.google.com/notebooks/data_table.ipynb>data table notebook</a>'\n",
              "            + ' to learn more about interactive tables.';\n",
              "          element.innerHTML = '';\n",
              "          dataTable['output_type'] = 'display_data';\n",
              "          await google.colab.output.renderOutput(dataTable, element);\n",
              "          const docLink = document.createElement('div');\n",
              "          docLink.innerHTML = docLinkHtml;\n",
              "          element.appendChild(docLink);\n",
              "        }\n",
              "      </script>\n",
              "    </div>\n",
              "  </div>\n",
              "  "
            ]
          },
          "metadata": {},
          "execution_count": 20
        }
      ]
    },
    {
      "cell_type": "code",
      "source": [
        "#Selecting test data output features\n",
        "output_data_test = data_test_df.loc[:, \"v1\":\"v784\"].to_numpy()"
      ],
      "metadata": {
        "id": "tUX9f0zDpE0R"
      },
      "execution_count": null,
      "outputs": []
    },
    {
      "cell_type": "code",
      "source": [
        "input_feature = input_feature.reshape(30000, -1) #reshaping the input data"
      ],
      "metadata": {
        "id": "J7l9TVbaeYZE"
      },
      "execution_count": null,
      "outputs": []
    },
    {
      "cell_type": "markdown",
      "source": [
        "Since the test data provided doesnot contain labels for the purpose of checking the accuracy of the model I have split the training data using train_test_split into 75% training data and 25% test data. \n",
        "Therefore from now the training data size would be (22500)\n",
        "testing data* size would be (7500).\n",
        "\n",
        "*note: The actual testing data (5000) with no labels will be used at the end after checking the accuracy of the classifiers on the training data set. The output labels for the final test data will be obtained at the end.\n"
      ],
      "metadata": {
        "id": "6jJdlq-2hcbz"
      }
    },
    {
      "cell_type": "code",
      "source": [
        "#spliting the training data into train and test \n",
        "train_feature,test_feature,train_label,test_label = train_test_split(\n",
        "    input_feature, input_label, random_state=0)"
      ],
      "metadata": {
        "id": "FUfXkT7pdHGO"
      },
      "execution_count": null,
      "outputs": []
    },
    {
      "cell_type": "code",
      "source": [
        "print(len(test_feature))"
      ],
      "metadata": {
        "colab": {
          "base_uri": "https://localhost:8080/"
        },
        "id": "c2Ze3eW6eNEI",
        "outputId": "493cbbc5-0a69-490f-f3ac-43b1d9e08418"
      },
      "execution_count": null,
      "outputs": [
        {
          "output_type": "stream",
          "name": "stdout",
          "text": [
            "7500\n"
          ]
        }
      ]
    },
    {
      "cell_type": "markdown",
      "source": [
        "###**Principal Component Analysis(PCA)**"
      ],
      "metadata": {
        "id": "tCYhPmXI9Ne3"
      }
    },
    {
      "cell_type": "code",
      "source": [
        "features = train_feature.T\n",
        "covariance_matrix = np.cov(features)\n",
        "\n",
        "eig_value, eig_vector = np.linalg.eig(covariance_matrix)\n",
        "\n",
        "print('Total No. of eigen values ')\n",
        "print(eig_value.shape)\n",
        "sum(eig_value[0:350])/sum(eig_value)\n",
        "len(eig_value)\n",
        "eig_pairs = [(np.abs(eig_value[i]), eig_vector[:,i]) for i in range(len(eig_value))]\n",
        "#sorting te=he eigen values\n",
        "eig_pairs.sort()\n",
        "eig_pairs.reverse()\n",
        "\n",
        "#creating a stack of 350 features that have maximum weight\n",
        "matrix_w=eig_pairs[0][1].reshape(784,1)\n",
        "for i in range(1,350):\n",
        "  a = eig_pairs[i][1].reshape(784,1)\n",
        "  matrix_w = np.hstack((matrix_w, a))\n",
        "  \n",
        "#tranforming the train and test data using pca\n",
        "data_train_pca = train_feature.dot(matrix_w)\n",
        "data_test_pca = test_feature.dot(matrix_w)\n",
        "output_data_test_pca = output_data_test.dot(matrix_w)\n"
      ],
      "metadata": {
        "colab": {
          "base_uri": "https://localhost:8080/"
        },
        "id": "Balfqql2L7Ou",
        "outputId": "c175d107-8126-4f8a-ded1-ac22e43407ee"
      },
      "execution_count": null,
      "outputs": [
        {
          "output_type": "stream",
          "name": "stdout",
          "text": [
            "Total No. of eigen values \n",
            "(784,)\n"
          ]
        }
      ]
    },
    {
      "cell_type": "code",
      "source": [
        "print('Size of new Projection :')\n",
        "print(matrix_w.shape)\n",
        "print('Size of new training feature data with PCA matrix:')\n",
        "print(data_train_pca.shape)\n",
        "print('Size of new testing feature data with PCA matrix:')\n",
        "print(data_test_pca.shape)\n",
        "print('Size of new final output testing feature data with PCA matrix:')\n",
        "print(output_data_test_pca.shape)\n",
        "\n",
        "train_feature = data_train_pca\n",
        "test_feature = data_test_pca\n",
        "output_data_test = output_data_test_pca"
      ],
      "metadata": {
        "colab": {
          "base_uri": "https://localhost:8080/"
        },
        "id": "HTPttYwarCwO",
        "outputId": "0c732910-64ad-4fb4-c1e2-571c50550e51"
      },
      "execution_count": null,
      "outputs": [
        {
          "output_type": "stream",
          "name": "stdout",
          "text": [
            "Size of new Projection :\n",
            "(784, 350)\n",
            "Size of new training feature data with PCA matrix:\n",
            "(22500, 350)\n",
            "Size of new testing feature data with PCA matrix:\n",
            "(7500, 350)\n",
            "Size of new final output testing feature data with PCA matrix:\n",
            "(5000, 350)\n"
          ]
        }
      ]
    },
    {
      "cell_type": "markdown",
      "source": [
        "#**(kNN) K-Nearest Neighbours Classifier**"
      ],
      "metadata": {
        "id": "wWMrYp47-vPp"
      }
    },
    {
      "cell_type": "code",
      "source": [
        "class knn_funct():\n",
        "    #creating knn classifier with L2 distance\n",
        "\n",
        "    def __init__(self):\n",
        "        pass\n",
        "    def train_funct(self, X, Y): #define train function\n",
        "        self.train_feature = X\n",
        "        self.train_label= Y\n",
        "    def compute_distance(self, X): #define distance computation function\n",
        "        num_test = X.shape[0]\n",
        "        num_train = self.train_feature.shape[0]\n",
        "        dot_pro = np.dot(X, self.train_feature.T)\n",
        "        sum_square_test = np.square(X).sum(axis = 1)\n",
        "        sum_square_train = np.square(self.train_feature).sum(axis = 1)\n",
        "        \n",
        "        distance = np.sqrt(-2 * dot_pro + sum_square_train + np.matrix(sum_square_test).T)\n",
        "\n",
        "        return(distance)\n",
        "      \n",
        "    def predict_funct(self, X, k): #define prediction function\n",
        "        distance = self.compute_distance(X)\n",
        "        num_test = distance.shape[0]\n",
        "        y_predicted = np.zeros(num_test)\n",
        "\n",
        "        for i in range(num_test):\n",
        "            k_closest_y = []\n",
        "            labels = self.train_label[np.argsort(distance[i,:])].flatten()\n",
        "            # find k nearest lables\n",
        "            k_closest_Y = labels[:k]\n",
        "            c1 = Counter(k_closest_Y)\n",
        "            y_predicted[i] = c1.most_common(1)[0][0]\n",
        "\n",
        "        return(y_predicted)\n",
        "\n",
        "def knn_predict(test_feature, batch_size): #creating a knn prediction function on recieving user input\n",
        "\n",
        "  predictions = []\n",
        "\n",
        "  for i in range(int(len(test_feature)/(2*batch_size))):\n",
        "      # predicts from i * batch_size to (i+1) * batch_size\n",
        "      predts = classifier.predict_funct(test_feature[i * batch_size:(i+1) * batch_size], k)\n",
        "      predictions = predictions + list(predts)\n",
        "  \n",
        "    # To predict second half of test data\n",
        "\n",
        "  for i in range(int(len(test_feature)/(2*batch_size)), int(len(test_feature)/batch_size)):\n",
        "      #predicts from i * batch_size to (i+1) * batch_size\n",
        "      predts = classifier.predict_funct(test_feature[i * batch_size:(i+1) * batch_size], k)\n",
        "      predictions = predictions + list(predts)\n",
        "\n",
        "\n",
        "  y_new = np.asarray(predictions)\n",
        "  return y_new      "
      ],
      "metadata": {
        "id": "FJIbvABOIrh2"
      },
      "execution_count": null,
      "outputs": []
    },
    {
      "cell_type": "markdown",
      "source": [
        "#**Naive Bayes Classifier**"
      ],
      "metadata": {
        "id": "t7d0Jzad_S1x"
      }
    },
    {
      "cell_type": "code",
      "source": [
        "class Naive_Bayes(object):\n",
        "    def __init__(self, learning_rate= 0.001):\n",
        "        self.learning_rate = learning_rate \n",
        "\n",
        "    def nb_train(self, X, Y): #define the train function for the nvb classifier\n",
        "        sample_count = X.shape[0]\n",
        "        sep = [[x for x, p in zip(X, Y) if p == n] for n in np.unique(Y)]\n",
        "        self.log_prior_class = [np.log(len(i) / sample_count) for i in sep]\n",
        "        count_arr = np.array([np.array(i).sum(axis=0) for i in sep]) + self.learning_rate\n",
        "        self.log_prob_feature = np.log(count_arr / count_arr.sum(axis=1)[np.newaxis].T)\n",
        "        return self\n",
        "\n",
        "    def nb_predict(self, X): #nb prediction by using the log-likelihood notation \n",
        "        return [(self.log_prob_feature * a).sum(axis=1) + self.log_prior_class for a in X]\n",
        "\n",
        "    def predict_nb(self, X): #nb prediction function\n",
        "        return np.argmax(self.nb_predict(X), axis=1)"
      ],
      "metadata": {
        "id": "g-XVZcGdM4Xk"
      },
      "execution_count": null,
      "outputs": []
    },
    {
      "cell_type": "markdown",
      "source": [
        "#**Support Vector Machine Classifier**"
      ],
      "metadata": {
        "id": "1Z5F9bCBNIQD"
      }
    },
    {
      "cell_type": "code",
      "source": [
        "# Linear SVM\n",
        "def linear_SVM(X,y_train,X_test,y_test): #define Linear SVM classifier function\n",
        "  scaler = MinMaxScaler()\n",
        "  scaler.fit(X)\n",
        "  X_train = scaler.transform(X) \n",
        "  X_test = scaler.transform(X_test) \n",
        "  \n",
        "  lin_svm = SVC(kernel=\"linear\")\n",
        "  lin_svm.fit(X_train, y_train)\n",
        "  y_pred = lin_svm.predict(X_test)\n",
        "  return y_pred\n",
        " \n",
        "\n",
        "# RBF SVM\n",
        "def rbf_SVM(X,y_train,X_test): #define RBF based SVM classifier function\n",
        "  scaler = MinMaxScaler()\n",
        "  scaler.fit(X)\n",
        "  X_train = scaler.transform(X) \n",
        "  X_test = scaler.transform(X_test) \n",
        "  rbf_svm = SVC(kernel=\"rbf\", gamma=\"auto\")\n",
        "  rbf_svm.fit(X_train, y_train)\n",
        "  y_pred = rbf_svm.predict(X_test)\n",
        "  return y_pred\n"
      ],
      "metadata": {
        "id": "WhZx3d0CWBbk"
      },
      "execution_count": null,
      "outputs": []
    },
    {
      "cell_type": "markdown",
      "source": [
        "#**Ensemble Method: Random Forest Classifier**"
      ],
      "metadata": {
        "id": "SdhBTF-OlZfT"
      }
    },
    {
      "cell_type": "code",
      "source": [
        "def rf_train(X,Y,X_test): #define a function for random forest classifier\n",
        "      rnd_clf = RandomForestClassifier(n_estimators=500, max_leaf_nodes=16, random_state=42)\n",
        "      rnd_clf.fit(X,Y)\n",
        "      y_pred_rf = rnd_clf.predict(X_test)\n",
        "      return y_pred_rf\n",
        "   "
      ],
      "metadata": {
        "id": "21JPm9EcnQ3D"
      },
      "execution_count": null,
      "outputs": []
    },
    {
      "cell_type": "markdown",
      "source": [
        "#**Parameter Grid Search using 10-fold cross validation for KNN Classifier**\n",
        "Hyperparameter tunning using grid search"
      ],
      "metadata": {
        "id": "CseMO4uJ6W1_"
      }
    },
    {
      "cell_type": "code",
      "source": [
        "# param_grid = {'n_neighbors': [1, 3, 5, 11, 15],\n",
        "#               'p': [1, 2]}\n",
        "# print(\"Parameter grid:\\n{}\".format(param_grid))\n",
        "\n",
        "# grid_search = GridSearchCV(KNeighborsClassifier(), param_grid, cv=10,\n",
        "#                           return_train_score=True)\n",
        "\n",
        "\n",
        "# grid_search.fit(train_feature, train_label)\n",
        "\n",
        "# print(\"Test set score: {:.2f}\".format(grid_search.score(test_feature,test_label)))\n",
        "# print(\"Best parameters: {}\".format(grid_search.best_params_))\n",
        "# print(\"Best cross-validation score: {:.2f}\".format(grid_search.best_score_))\n",
        "# print(\"Best estimator:\\n{}\".format(grid_search.best_estimator_))\n",
        "\n",
        "#output\n",
        "# Parameter grid:\n",
        "# {'n_neighbors': [1, 3, 5, 11, 15], 'p': [1, 2]}\n",
        "# Test set score: 0.84\n",
        "# Best parameters: {'n_neighbors': 5, 'p': 2}\n",
        "# Best cross-validation score: 0.84\n",
        "# Best estimator:\n",
        "# KNeighborsClassifier()\n",
        "\n",
        "#time taken(3h 27m 18s)"
      ],
      "metadata": {
        "id": "J-mfGaJ96fpN"
      },
      "execution_count": null,
      "outputs": []
    },
    {
      "cell_type": "markdown",
      "source": [
        "#**Input Classifier Selection**"
      ],
      "metadata": {
        "id": "9m0Vn63dlhlK"
      }
    },
    {
      "cell_type": "code",
      "source": [
        "print(\"Enter your chocice of classifier from 1 to 4:\") #allowing the user to pick a classifier of their choice\n",
        "print(\"1. K Nearest Neighbour Classifier\")\n",
        "print(\"2. Naive Bayes Classifier\")\n",
        "print(\"3. Support Vector Machine(svm) Classifier \")\n",
        "print(\"4. Random Forest Classifier\")\n",
        "print()\n",
        "user_input=int(input(\"Enter your choice here: \"))\n",
        "\n",
        "t1=time.time()\n",
        "\n",
        "if user_input is 1:\n",
        "  batch_size = 1000\n",
        "  #k=1 is not considered due to overfitting and the other values of K provide less accuracy\n",
        "  k = 3\n",
        "  classifier = knn_funct()\n",
        "  classifier.train_funct(train_feature, train_label)\n",
        "  predictions=knn_predict(train_feature,batch_size)\n",
        "  print(\"For k:\",k )\n",
        "  print(\"Accuracy of model on train set:\",accuracy_score(train_label[0:22000],predictions)*100) #accuracy on train set\n",
        "  predictions=knn_predict(test_feature,batch_size)\n",
        "  print(\"Accuracy of model on test set:\",accuracy_score(test_label[0:7000], predictions)*100) #accuracy on test set\n",
        "  output = knn_predict(output_data_test,batch_size) #generating the output file using the actual test data. note: output_data_test is the test data without labels(5000)\n",
        "\n",
        "\n",
        "elif user_input is 2:\n",
        "  model = Naive_Bayes()\n",
        "  model.nb_train(train_feature,train_label)\n",
        "  predictions = model.predict_nb(train_feature)\n",
        "  print(\"Accuracy of model on training set:\",accuracy_score(predictions, train_label)*100) #accuracy on train set\n",
        "  predictions = model.predict_nb(test_feature)\n",
        "  print(\"Accuracy of model on test set:\",accuracy_score(predictions,test_label)*100) #accuracy on test set\n",
        "  output = model.predict_nb(output_data_test) #generating the output file using the actual test data. note: output_data_test is the test data without labels(5000)\n",
        "\n",
        "\n",
        "\n",
        "elif user_input is 3:\n",
        "  predictions = linear_SVM(train_feature, train_label, train_feature,train_label)\n",
        "  print(\"Linear SVM  accuracy on train set: \",(accuracy_score(train_label, predictions))*100) #accuracy on train set(linear SVM)\n",
        "  predictions = linear_SVM(train_feature, train_label, test_feature,test_label)\n",
        "  print(\"Linear SVM  accuracy on test set: \",(accuracy_score(test_label, predictions))*100) #accuracy on test set (linear SVM)\n",
        "  predictions = rbf_SVM(train_feature, train_label, train_feature)\n",
        "  print(\"RBF SVM  accuracy on train set:\",(accuracy_score(train_label, predictions))*100) #accuracy on train set (SVM WITH rbf)\n",
        "  predictions = rbf_SVM(train_feature, train_label, test_feature)\n",
        "  print(\"RBF SVM  accuracy on test set: \",(accuracy_score(test_label, predictions))*100) #accuracy on test set (SVM WITH rbf)\n",
        "  output = rbf_SVM(train_feature, train_label,output_data_test) #generating the output file using the actual test data. note: output_data_test is the test data without labels(5000)\n",
        "\n",
        "  \n",
        "elif user_input is 4:\n",
        "  \n",
        "  predictions = rf_train(train_feature,train_label,train_feature)\n",
        "  print(\"Accuracy of model on training set:\",accuracy_score(train_label,predictions)*100) #accuracy on train set\n",
        "  predictions = rf_train(train_feature,train_label,test_feature)\n",
        "  print(\"Accuracy of model on test set:\",accuracy_score(test_label,predictions)*100) #accuracy on test set\n",
        "  output = rf_train(train_feature,train_label,output_data_test) #generating the output file using the actual test data. note: output_data_test is the test data without labels(5000)\n",
        "\n",
        "t2=time.time()\n",
        "\n",
        "print()\n",
        "print(\"Total time taken (min): \" + str((t2-t1)/60) ) #calculating the time taken in minutes\n",
        "\n",
        "\n",
        "\n",
        "#Enter 1 for KNN Classifier\n",
        "#KNN classifier provides the best accuracy score in the least time\n",
        "#Final Output file submitted is based on KNN Classifier \n",
        "\n",
        "\n",
        "\n",
        "\n",
        "\n",
        "\n",
        "\n",
        "\n",
        "\n"
      ],
      "metadata": {
        "id": "jISdU5NtOzcu",
        "colab": {
          "base_uri": "https://localhost:8080/"
        },
        "outputId": "1b9c21b1-e6ad-4fce-8455-9fb1efe52b2d"
      },
      "execution_count": null,
      "outputs": [
        {
          "output_type": "stream",
          "name": "stdout",
          "text": [
            "Enter your chocice of classifier from 1 to 4:\n",
            "1. K Nearest Neighbour Classifier\n",
            "2. Naive Bayes Classifier\n",
            "3. Support Vector Machine(svm) Classifier \n",
            "4. Random Forest Classifier\n",
            "\n"
          ]
        }
      ]
    },
    {
      "cell_type": "code",
      "source": [
        "from google.colab import drive\n",
        "drive.mount('/content/drive')"
      ],
      "metadata": {
        "id": "A9fwBJBl_7L6"
      },
      "execution_count": null,
      "outputs": []
    },
    {
      "cell_type": "markdown",
      "source": [
        "#**Generating output**"
      ],
      "metadata": {
        "id": "fzh25Aa2l0qJ"
      }
    },
    {
      "cell_type": "code",
      "source": [
        "output_df = pd.DataFrame(output, columns = ['label'])\n",
        "output_df.to_csv('./Output/test_output.csv', sep=\",\", float_format='%d',index_label=\"id\")\n"
      ],
      "metadata": {
        "id": "LLoh66OPFcUe"
      },
      "execution_count": null,
      "outputs": []
    }
  ]
}